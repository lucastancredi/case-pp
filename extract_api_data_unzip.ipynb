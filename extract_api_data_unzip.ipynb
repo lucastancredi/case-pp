{
 "cells": [
  {
   "cell_type": "code",
   "execution_count": 0,
   "metadata": {
    "application/vnd.databricks.v1+cell": {
     "cellMetadata": {
      "byteLimit": 2048000,
      "rowLimit": 10000
     },
     "inputWidgets": {},
     "nuid": "d4bb8297-1c8f-46ec-993e-3396654151d1",
     "showTitle": false,
     "title": ""
    }
   },
   "outputs": [],
   "source": [
    "import requests\n",
    "import os\n",
    "import zipfile\n",
    "from datetime import datetime"
   ]
  },
  {
   "cell_type": "code",
   "execution_count": 0,
   "metadata": {
    "application/vnd.databricks.v1+cell": {
     "cellMetadata": {
      "byteLimit": 2048000,
      "rowLimit": 10000
     },
     "inputWidgets": {},
     "nuid": "cba7f3c4-598d-4dc0-9663-95971bef30c8",
     "showTitle": true,
     "title": "Download"
    }
   },
   "outputs": [
    {
     "output_type": "stream",
     "name": "stdout",
     "output_type": "stream",
     "text": [
      "Baixando: 202408_Servidores_SIAPE.zip...\nDownload concluído: 202408_Servidores_SIAPE.zip\nBaixando: 202407_Servidores_SIAPE.zip...\nDownload concluído: 202407_Servidores_SIAPE.zip\nBaixando: 202406_Servidores_SIAPE.zip...\nDownload concluído: 202406_Servidores_SIAPE.zip\nBaixando: 202405_Servidores_SIAPE.zip...\nDownload concluído: 202405_Servidores_SIAPE.zip\n"
     ]
    }
   ],
   "source": [
    "base_url = \"https://dadosabertos-download.cgu.gov.br/PortalDaTransparencia/saida/servidores/\"\n",
    "\n",
    "def download_file(year, month):\n",
    "\n",
    "    month_str = str(month).zfill(2)\n",
    "    file_name = f\"{year}{month_str}_Servidores_SIAPE.zip\"\n",
    "    file_url = os.path.join(base_url, file_name)\n",
    "    local_path = os.path.join(\"/dbfs/servidores/\", file_name)\n",
    "    \n",
    "    if not os.path.exists(\"/dbfs/servidores/\"):\n",
    "        os.mkdir(\"/dbfs/servidores/\")\n",
    "\n",
    "    # Olha se já existe, se não, baixa\n",
    "    if not os.path.exists(local_path):\n",
    "        print(f\"Baixando: {file_name}...\")\n",
    "        response = requests.get(file_url)\n",
    "        if response.status_code == 200:\n",
    "            with open(local_path, 'wb') as f:\n",
    "                f.write(response.content)\n",
    "            print(f\"Download concluído: {file_name}\")\n",
    "        else:\n",
    "            print(f\"Erro ao baixar o arquivo: {response.status_code}\")\n",
    "    else:\n",
    "        print(f\"Arquivo já existe: {file_name}\")\n",
    "\n",
    "current_date = datetime.now()\n",
    "current_month = current_date.month\n",
    "current_year = current_date.year\n",
    "\n",
    "historical_months = []\n",
    "for i in range(4):\n",
    "    month = current_month - (2 + i)\n",
    "    year = current_year\n",
    "\n",
    "    if month < 1:\n",
    "        month += 12\n",
    "        year -= 1\n",
    "\n",
    "    historical_months.append((year, month))\n",
    "\n",
    "# Baixar os arquivos para os meses determinados\n",
    "for year, month in historical_months:\n",
    "    download_file(year, month)\n"
   ]
  },
  {
   "cell_type": "code",
   "execution_count": 0,
   "metadata": {
    "application/vnd.databricks.v1+cell": {
     "cellMetadata": {
      "byteLimit": 2048000,
      "rowLimit": 10000
     },
     "inputWidgets": {},
     "nuid": "c9cae48a-2b58-47c5-a39d-4dc9a0b76b52",
     "showTitle": true,
     "title": "Unzip"
    }
   },
   "outputs": [
    {
     "output_type": "stream",
     "name": "stdout",
     "output_type": "stream",
     "text": [
      "Arquivo descompactado: 202408_Servidores_SIAPE.zip\nArquivo descompactado: 202407_Servidores_SIAPE.zip\nArquivo descompactado: 202406_Servidores_SIAPE.zip\nArquivo descompactado: 202405_Servidores_SIAPE.zip\n"
     ]
    }
   ],
   "source": [
    "def unzip_files(historical_months):\n",
    "    for year, month in historical_months:\n",
    "        month_str = str(month).zfill(2)\n",
    "        file_name = f\"{year}{month_str}_Servidores_SIAPE.zip\"\n",
    "        local_path = os.path.join(\"/dbfs/servidores/\", file_name)\n",
    "        base_extract_path = \"/dbfs/servidores_unzip_raw/\"\n",
    "\n",
    "        if os.path.exists(local_path):\n",
    "            with zipfile.ZipFile(local_path, 'r') as zip_ref:\n",
    "                # Extrair os arquivos do zip e organizá-los por tipo de dado\n",
    "                for file in zip_ref.namelist():\n",
    "                    # Identificar tipo de dado a partir do nome do arquivo\n",
    "                    if \"Remuneracao\" in file:\n",
    "                        target_path = os.path.join(base_extract_path, \"remuneracao\")\n",
    "                    elif \"Observacoes\" in file:\n",
    "                        target_path = os.path.join(base_extract_path, \"observacoes\")\n",
    "                    elif \"Cadastro\" in file:\n",
    "                        target_path = os.path.join(base_extract_path, \"cadastro\")\n",
    "                    elif \"Afastamento\" in file:\n",
    "                        target_path = os.path.join(base_extract_path, \"afastamento\")\n",
    "                    else:\n",
    "                        continue\n",
    "                    \n",
    "                    os.makedirs(target_path, exist_ok=True)\n",
    "                    zip_ref.extract(file, target_path)\n",
    "            \n",
    "            print(f\"Arquivo descompactado: {file_name}\")\n",
    "        else:\n",
    "            print(f\"Arquivo não encontrado para descompactar: {file_name}\")\n",
    "\n",
    "# Descompactar os arquivos\n",
    "unzip_files(historical_months)"
   ]
  }
 ],
 "metadata": {
  "application/vnd.databricks.v1+notebook": {
   "dashboards": [],
   "environmentMetadata": null,
   "language": "python",
   "notebookMetadata": {
    "mostRecentlyExecutedCommandWithImplicitDF": {
     "commandId": 338334338914043,
     "dataframes": [
      "_sqldf"
     ]
    },
    "pythonIndentUnit": 4,
    "widgetLayout": [
     {
      "breakBefore": false,
      "name": "ano",
      "width": 183
     }
    ]
   },
   "notebookName": "extract-unzip",
   "widgets": {}
  }
 },
 "nbformat": 4,
 "nbformat_minor": 0
}
