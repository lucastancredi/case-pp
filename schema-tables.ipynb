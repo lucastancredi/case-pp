{
 "cells": [
  {
   "cell_type": "markdown",
   "metadata": {
    "application/vnd.databricks.v1+cell": {
     "cellMetadata": {},
     "inputWidgets": {},
     "nuid": "7fe81e9b-a5f8-461d-9097-73b26505f1f3",
     "showTitle": false,
     "title": ""
    }
   },
   "source": [
    "Criar o Schema a Tabelas"
   ]
  },
  {
   "cell_type": "code",
   "execution_count": 0,
   "metadata": {
    "application/vnd.databricks.v1+cell": {
     "cellMetadata": {
      "byteLimit": 2048000,
      "implicitDf": true,
      "rowLimit": 10000
     },
     "inputWidgets": {},
     "nuid": "2f57533b-cdc4-45db-b487-81943bf669f4",
     "showTitle": false,
     "title": ""
    }
   },
   "outputs": [
    {
     "output_type": "display_data",
     "data": {
      "text/html": [
       "<style scoped>\n",
       "  .table-result-container {\n",
       "    max-height: 300px;\n",
       "    overflow: auto;\n",
       "  }\n",
       "  table, th, td {\n",
       "    border: 1px solid black;\n",
       "    border-collapse: collapse;\n",
       "  }\n",
       "  th, td {\n",
       "    padding: 5px;\n",
       "  }\n",
       "  th {\n",
       "    text-align: left;\n",
       "  }\n",
       "</style><div class='table-result-container'><table class='table-result'><thead style='background-color: white'><tr></tr></thead><tbody></tbody></table></div>"
      ]
     },
     "metadata": {
      "application/vnd.databricks.v1+output": {
       "addedWidgets": {},
       "aggData": [],
       "aggError": "",
       "aggOverflow": false,
       "aggSchema": [],
       "aggSeriesLimitReached": false,
       "aggType": "",
       "arguments": {},
       "columnCustomDisplayInfos": {},
       "data": [],
       "datasetInfos": [],
       "dbfsResultPath": null,
       "isJsonSchema": true,
       "metadata": {
        "dataframeName": null
       },
       "overflow": false,
       "plotOptions": {
        "customPlotOptions": {},
        "displayType": "table",
        "pivotAggregation": null,
        "pivotColumns": null,
        "xColumns": null,
        "yColumns": null
       },
       "removedWidgets": [],
       "schema": [],
       "type": "table"
      }
     },
     "output_type": "display_data"
    }
   ],
   "source": [
    "%sql\n",
    "CREATE SCHEMA IF NOT EXISTS public_informations;"
   ]
  },
  {
   "cell_type": "code",
   "execution_count": 0,
   "metadata": {
    "application/vnd.databricks.v1+cell": {
     "cellMetadata": {
      "byteLimit": 2048000,
      "implicitDf": true,
      "rowLimit": 10000
     },
     "inputWidgets": {},
     "nuid": "ed0e96e3-9792-449e-b86c-d4c3d8cd647e",
     "showTitle": true,
     "title": "afastamento"
    }
   },
   "outputs": [
    {
     "output_type": "display_data",
     "data": {
      "text/html": [
       "<style scoped>\n",
       "  .table-result-container {\n",
       "    max-height: 300px;\n",
       "    overflow: auto;\n",
       "  }\n",
       "  table, th, td {\n",
       "    border: 1px solid black;\n",
       "    border-collapse: collapse;\n",
       "  }\n",
       "  th, td {\n",
       "    padding: 5px;\n",
       "  }\n",
       "  th {\n",
       "    text-align: left;\n",
       "  }\n",
       "</style><div class='table-result-container'><table class='table-result'><thead style='background-color: white'><tr></tr></thead><tbody></tbody></table></div>"
      ]
     },
     "metadata": {
      "application/vnd.databricks.v1+output": {
       "addedWidgets": {},
       "aggData": [],
       "aggError": "",
       "aggOverflow": false,
       "aggSchema": [],
       "aggSeriesLimitReached": false,
       "aggType": "",
       "arguments": {},
       "columnCustomDisplayInfos": {},
       "data": [],
       "datasetInfos": [],
       "dbfsResultPath": null,
       "isJsonSchema": true,
       "metadata": {
        "dataframeName": null
       },
       "overflow": false,
       "plotOptions": {
        "customPlotOptions": {},
        "displayType": "table",
        "pivotAggregation": null,
        "pivotColumns": null,
        "xColumns": null,
        "yColumns": null
       },
       "removedWidgets": [],
       "schema": [],
       "type": "table"
      }
     },
     "output_type": "display_data"
    }
   ],
   "source": [
    "%sql\n",
    "CREATE TABLE IF NOT EXISTS public_informations.silver_siape_afastamento (\n",
    "  ano int,\n",
    "  mes int,\n",
    "  id_servidor_portal int NOT NULL,\n",
    "  cpf string,\n",
    "  nome string,\n",
    "  data_inicio_afastamento date,\n",
    "  data_fim_afastamento date,\n",
    "  fonte string,\n",
    "  date_upload timestamp\n",
    ") \n",
    "USING DELTA\n",
    "PARTITIONED BY (ano, mes)"
   ]
  },
  {
   "cell_type": "code",
   "execution_count": 0,
   "metadata": {
    "application/vnd.databricks.v1+cell": {
     "cellMetadata": {
      "byteLimit": 2048000,
      "implicitDf": true,
      "rowLimit": 10000
     },
     "inputWidgets": {},
     "nuid": "8c1f9f35-283a-48d8-8508-b3ec0291bbe2",
     "showTitle": true,
     "title": "cadastro"
    }
   },
   "outputs": [
    {
     "output_type": "display_data",
     "data": {
      "text/html": [
       "<style scoped>\n",
       "  .table-result-container {\n",
       "    max-height: 300px;\n",
       "    overflow: auto;\n",
       "  }\n",
       "  table, th, td {\n",
       "    border: 1px solid black;\n",
       "    border-collapse: collapse;\n",
       "  }\n",
       "  th, td {\n",
       "    padding: 5px;\n",
       "  }\n",
       "  th {\n",
       "    text-align: left;\n",
       "  }\n",
       "</style><div class='table-result-container'><table class='table-result'><thead style='background-color: white'><tr></tr></thead><tbody></tbody></table></div>"
      ]
     },
     "metadata": {
      "application/vnd.databricks.v1+output": {
       "addedWidgets": {},
       "aggData": [],
       "aggError": "",
       "aggOverflow": false,
       "aggSchema": [],
       "aggSeriesLimitReached": false,
       "aggType": "",
       "arguments": {},
       "columnCustomDisplayInfos": {},
       "data": [],
       "datasetInfos": [],
       "dbfsResultPath": null,
       "isJsonSchema": true,
       "metadata": {
        "dataframeName": null
       },
       "overflow": false,
       "plotOptions": {
        "customPlotOptions": {},
        "displayType": "table",
        "pivotAggregation": null,
        "pivotColumns": null,
        "xColumns": null,
        "yColumns": null
       },
       "removedWidgets": [],
       "schema": [],
       "type": "table"
      }
     },
     "output_type": "display_data"
    }
   ],
   "source": [
    "%sql\n",
    "CREATE TABLE IF NOT EXISTS public_informations.silver_siape_cadastro (\n",
    "  id_servidor_portal integer NOT NULL,\n",
    "  nome string,\n",
    "  cpf string,\n",
    "  matricula string,\n",
    "  descricao_cargo string,\n",
    "  classe_cargo string,\n",
    "  referencia_cargo integer,\n",
    "  padrao_cargo string,\n",
    "  nivel_cargo integer,\n",
    "  sigla_funcao string,\n",
    "  nivel_funcao integer,\n",
    "  funcao string,\n",
    "  codigo_atividade integer,\n",
    "  atividade string,\n",
    "  opcao_parcial string,\n",
    "  cod_uorg_lotacao long,\n",
    "  uorg_lotacao string,\n",
    "  cod_org_lotacao integer,\n",
    "  org_lotacao string,\n",
    "  cod_orgsup_lotacao integer,\n",
    "  orgsup_lotacao string,\n",
    "  cod_uorg_exercicio long,\n",
    "  uorg_exercicio string,\n",
    "  cod_org_exercicio integer,\n",
    "  org_exercicio string,\n",
    "  cod_orgsup_exercicio integer,\n",
    "  orgsup_exercicio string,\n",
    "  cod_tipo_vinculo integer,\n",
    "  tipo_vinculo string,\n",
    "  situacao_vinculo string,\n",
    "  data_inicio_afastamento string,\n",
    "  data_termino_afastamento string,\n",
    "  regime_juridico string,\n",
    "  jornada_de_trabalho string,\n",
    "  data_ingresso_cargofuncao date,\n",
    "  data_nomeacao_cargofuncao string,\n",
    "  data_ingresso_orgao date,\n",
    "  documento_ingresso_servicopublico string,\n",
    "  data_diploma_ingresso_servicopublico date,\n",
    "  diploma_ingresso_cargofuncao string,\n",
    "  diploma_ingresso_orgao string,\n",
    "  diploma_ingresso_servicopublico string,\n",
    "  uf_exercicio string,\n",
    "  fonte string,\n",
    "  date_upload timestamp\n",
    ") \n",
    "USING DELTA;"
   ]
  },
  {
   "cell_type": "code",
   "execution_count": 0,
   "metadata": {
    "application/vnd.databricks.v1+cell": {
     "cellMetadata": {
      "byteLimit": 2048000,
      "implicitDf": true,
      "rowLimit": 10000
     },
     "inputWidgets": {},
     "nuid": "5e7fabbb-547c-47b4-a940-878b047a545f",
     "showTitle": true,
     "title": "observacoes"
    }
   },
   "outputs": [
    {
     "output_type": "display_data",
     "data": {
      "text/html": [
       "<style scoped>\n",
       "  .table-result-container {\n",
       "    max-height: 300px;\n",
       "    overflow: auto;\n",
       "  }\n",
       "  table, th, td {\n",
       "    border: 1px solid black;\n",
       "    border-collapse: collapse;\n",
       "  }\n",
       "  th, td {\n",
       "    padding: 5px;\n",
       "  }\n",
       "  th {\n",
       "    text-align: left;\n",
       "  }\n",
       "</style><div class='table-result-container'><table class='table-result'><thead style='background-color: white'><tr></tr></thead><tbody></tbody></table></div>"
      ]
     },
     "metadata": {
      "application/vnd.databricks.v1+output": {
       "addedWidgets": {},
       "aggData": [],
       "aggError": "",
       "aggOverflow": false,
       "aggSchema": [],
       "aggSeriesLimitReached": false,
       "aggType": "",
       "arguments": {},
       "columnCustomDisplayInfos": {},
       "data": [],
       "datasetInfos": [],
       "dbfsResultPath": null,
       "isJsonSchema": true,
       "metadata": {
        "dataframeName": null
       },
       "overflow": false,
       "plotOptions": {
        "customPlotOptions": {},
        "displayType": "table",
        "pivotAggregation": null,
        "pivotColumns": null,
        "xColumns": null,
        "yColumns": null
       },
       "removedWidgets": [],
       "schema": [],
       "type": "table"
      }
     },
     "output_type": "display_data"
    }
   ],
   "source": [
    "%sql\n",
    "CREATE TABLE IF NOT EXISTS public_informations.silver_siape_observacoes (\n",
    "  ano integer,\n",
    "  mes integer,\n",
    "  id_servidor_portal integer NOT NULL, \n",
    "  nome string,\n",
    "  cpf string,\n",
    "  observacao string,\n",
    "  fonte string,\n",
    "  date_upload timestamp\n",
    ") \n",
    "USING DELTA\n",
    "PARTITIONED BY (ano, mes);"
   ]
  },
  {
   "cell_type": "code",
   "execution_count": 0,
   "metadata": {
    "application/vnd.databricks.v1+cell": {
     "cellMetadata": {
      "byteLimit": 2048000,
      "implicitDf": true,
      "rowLimit": 10000
     },
     "inputWidgets": {},
     "nuid": "4b90da83-b1df-4350-a851-005258e09abd",
     "showTitle": true,
     "title": "remuneracao"
    }
   },
   "outputs": [
    {
     "output_type": "display_data",
     "data": {
      "text/html": [
       "<style scoped>\n",
       "  .table-result-container {\n",
       "    max-height: 300px;\n",
       "    overflow: auto;\n",
       "  }\n",
       "  table, th, td {\n",
       "    border: 1px solid black;\n",
       "    border-collapse: collapse;\n",
       "  }\n",
       "  th, td {\n",
       "    padding: 5px;\n",
       "  }\n",
       "  th {\n",
       "    text-align: left;\n",
       "  }\n",
       "</style><div class='table-result-container'><table class='table-result'><thead style='background-color: white'><tr></tr></thead><tbody></tbody></table></div>"
      ]
     },
     "metadata": {
      "application/vnd.databricks.v1+output": {
       "addedWidgets": {},
       "aggData": [],
       "aggError": "",
       "aggOverflow": false,
       "aggSchema": [],
       "aggSeriesLimitReached": false,
       "aggType": "",
       "arguments": {},
       "columnCustomDisplayInfos": {},
       "data": [],
       "datasetInfos": [],
       "dbfsResultPath": null,
       "isJsonSchema": true,
       "metadata": {
        "dataframeName": null
       },
       "overflow": false,
       "plotOptions": {
        "customPlotOptions": {},
        "displayType": "table",
        "pivotAggregation": null,
        "pivotColumns": null,
        "xColumns": null,
        "yColumns": null
       },
       "removedWidgets": [],
       "schema": [],
       "type": "table"
      }
     },
     "output_type": "display_data"
    }
   ],
   "source": [
    "%sql\n",
    "CREATE TABLE IF NOT EXISTS public_informations.silver_siape_remuneracao (\n",
    "ano string,\n",
    "mes integer,\n",
    "id_servidor_portal integer,\n",
    "cpf string,\n",
    "nome string,\n",
    "remuneracao_basica_bruta_rs string,\n",
    "remuneracao_basica_bruta_us string,\n",
    "abate_teto_rs string,\n",
    "abate_teto_us string,\n",
    "gratificacao_natalina_rs string,\n",
    "gratificacao_natalina_us string,\n",
    "abate_teto_da_gratificacao_natalina_rs string,\n",
    "abate_teto_da_gratificacao_natalina_us string,\n",
    "ferias_rs string,\n",
    "ferias_us string,\n",
    "outras_remuneracoes_eventuais_rs string,\n",
    "outras_remuneracoes_eventuais_us string,\n",
    "irrf_rs string,\n",
    "irrf_us string,\n",
    "pss_rpgs_rs string,\n",
    "pss_rpgs_us string,\n",
    "demais_deducoes_rs string,\n",
    "demais_deducoes_us string,\n",
    "pensa_militar_rs string,\n",
    "pensa_militar_us string,\n",
    "fundo_de_saude_rs string,\n",
    "fundo_de_saude_us string,\n",
    "taxa_de_ocupacao_imovel_funcional_rs string,\n",
    "taxa_de_ocupacao_imovel_funcional_us string,\n",
    "remuneracao_apos_deducao_obrigatorias_rs string,\n",
    "remuneracao_apos_deducao_obrigatorias_us string,\n",
    "verbas_indenizatorias_registradas_em_sistemas_de_pessoal_civil_rs string,\n",
    "verbas_indenizatorias_registradas_em_sistemas_de_pessoal_civil_us string,\n",
    "verbas_indenizatorias_registradas_em_sistemas_de_pessoal_militar_rs string,\n",
    "verbas_indenizatorias_registradas_em_sistemas_de_pessoal_militar_us string,\n",
    "verbas_indenizatorias_programa_desligamento_voluntario_mp_792_2017_rs string,\n",
    "verbas_indenizatorias_programa_desligamento_voluntario_mp_792_2017_us string,\n",
    "total_de_verbas_indenizatorias_rs string,\n",
    "total_de_verbas_indenizatorias_us string,\n",
    "fonte string,\n",
    "date_upload timestamp\n",
    ") \n",
    "USING DELTA\n",
    "PARTITIONED BY (ano, mes);"
   ]
  }
 ],
 "metadata": {
  "application/vnd.databricks.v1+notebook": {
   "dashboards": [],
   "environmentMetadata": null,
   "language": "python",
   "notebookMetadata": {
    "mostRecentlyExecutedCommandWithImplicitDF": {
     "commandId": 3936377318750621,
     "dataframes": [
      "_sqldf"
     ]
    },
    "pythonIndentUnit": 4
   },
   "notebookName": "schema-tables",
   "widgets": {}
  }
 },
 "nbformat": 4,
 "nbformat_minor": 0
}
