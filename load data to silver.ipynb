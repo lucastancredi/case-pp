{
 "cells": [
  {
   "cell_type": "markdown",
   "metadata": {
    "application/vnd.databricks.v1+cell": {
     "cellMetadata": {},
     "inputWidgets": {},
     "nuid": "73786652-8bae-4e1e-9ecc-948e2d3fff15",
     "showTitle": false,
     "title": ""
    }
   },
   "source": [
    "Inserção de dados na Silver"
   ]
  },
  {
   "cell_type": "code",
   "execution_count": 0,
   "metadata": {
    "application/vnd.databricks.v1+cell": {
     "cellMetadata": {
      "byteLimit": 2048000,
      "rowLimit": 10000
     },
     "inputWidgets": {},
     "nuid": "526de4b8-ea76-4ca7-b2f1-471ce3ef16d8",
     "showTitle": false,
     "title": ""
    }
   },
   "outputs": [],
   "source": [
    "from pyspark.sql.functions import current_timestamp, lit"
   ]
  },
  {
   "cell_type": "code",
   "execution_count": 0,
   "metadata": {
    "application/vnd.databricks.v1+cell": {
     "cellMetadata": {
      "byteLimit": 2048000,
      "rowLimit": 10000
     },
     "inputWidgets": {},
     "nuid": "d06cdeab-f913-4e57-929d-5830066bf6c4",
     "showTitle": true,
     "title": "cadastro"
    }
   },
   "outputs": [],
   "source": [
    "folder_path = 'file:/dbfs/servidores_unzip_raw/cadastro/*.csv'\n",
    "cad = spark.read.csv(folder_path, header=True, inferSchema=True, sep=';', encoding='ISO-8859-1')\n",
    "cad = cad.withColumn(\"fonte\", lit(\"cadastro\")) \\\n",
    "         .withColumn(\"date_upload\", current_timestamp())\n",
    "\n",
    "#tabela anterior\n",
    "cad_before = spark.table(\"public_informations.silver_siape_cadastro\")\n",
    "\n",
    "cad = cad.join(cad_before, on=[\"id_servidor_portal\"], how=\"left_anti\")\n",
    "\n",
    "cad.write.format(\"delta\").mode(\"append\").insertInto(\"public_informations.silver_siape_cadastro\")"
   ]
  },
  {
   "cell_type": "code",
   "execution_count": 0,
   "metadata": {
    "application/vnd.databricks.v1+cell": {
     "cellMetadata": {
      "byteLimit": 2048000,
      "rowLimit": 10000
     },
     "inputWidgets": {},
     "nuid": "aa091a8f-3f06-449e-bd6d-e52db1cf9689",
     "showTitle": true,
     "title": "afastamento"
    }
   },
   "outputs": [
    {
     "output_type": "display_data",
     "data": {
      "text/html": [
       "<style scoped>\n",
       "  .ansiout {\n",
       "    display: block;\n",
       "    unicode-bidi: embed;\n",
       "    white-space: pre-wrap;\n",
       "    word-wrap: break-word;\n",
       "    word-break: break-all;\n",
       "    font-family: \"Menlo\", \"Monaco\", \"Consolas\", \"Ubuntu Mono\", \"Source Code Pro\", monospace;\n",
       "    font-size: 13px;\n",
       "    color: #555;\n",
       "    margin-left: 4px;\n",
       "    line-height: 19px;\n",
       "  }\n",
       "</style>"
      ]
     },
     "metadata": {
      "application/vnd.databricks.v1+output": {
       "arguments": {},
       "data": "",
       "errorSummary": "Cancelled",
       "errorTraceType": "html",
       "metadata": {},
       "type": "ipynbError"
      }
     },
     "output_type": "display_data"
    }
   ],
   "source": [
    "folder_path = 'file:/dbfs/servidores_unzip_raw/afastamento/*.csv'\n",
    "af = spark.read.csv(folder_path, header=True, inferSchema=True, sep=';', encoding='ISO-8859-1')\n",
    "af = af.withColumn(\"fonte\", lit(\"afastamento\")) \\\n",
    "         .withColumn(\"date_upload\", current_timestamp())\n",
    "\n",
    "#tabela anterior\n",
    "af_before = spark.table(\"public_informations.silver_siape_afastamento\")\n",
    "\n",
    "af = af.join(af_before, on=[\"id_servidor_portal\"], how=\"left_anti\")\n",
    "         \n",
    "af.write.format(\"delta\").mode(\"append\").insertInto(\"public_informations.silver_siape_afastamento\")"
   ]
  },
  {
   "cell_type": "code",
   "execution_count": 0,
   "metadata": {
    "application/vnd.databricks.v1+cell": {
     "cellMetadata": {
      "byteLimit": 2048000,
      "rowLimit": 10000
     },
     "inputWidgets": {},
     "nuid": "04e5ec79-30af-4db3-935c-72888a7a2365",
     "showTitle": true,
     "title": "observacoes"
    }
   },
   "outputs": [],
   "source": [
    "folder_path = 'file:/dbfs/servidores_unzip_raw/observacoes/*.csv'\n",
    "ob = spark.read.csv(folder_path, header=True, inferSchema=True, sep=';', encoding='ISO-8859-1')\n",
    "ob = ob.withColumn(\"fonte\", lit(\"observacoes\")) \\\n",
    "         .withColumn(\"date_upload\", current_timestamp())\n",
    "\n",
    "#tabela anterior\n",
    "ob_before = spark.table(\"public_informations.silver_siape_observacoes\")\n",
    "\n",
    "ob = ob.join(ob_before, on=[\"id_servidor_portal\"], how=\"left_anti\")\n",
    "\n",
    "ob.write.format(\"delta\").mode(\"append\").insertInto(\"public_informations.silver_siape_observacoes\")"
   ]
  },
  {
   "cell_type": "code",
   "execution_count": 0,
   "metadata": {
    "application/vnd.databricks.v1+cell": {
     "cellMetadata": {
      "byteLimit": 2048000,
      "rowLimit": 10000
     },
     "inputWidgets": {},
     "nuid": "4d7c446e-76f0-4a34-bbb4-ed673f45ea8e",
     "showTitle": true,
     "title": "remuneracao"
    }
   },
   "outputs": [],
   "source": [
    "folder_path = 'file:/dbfs/servidores_unzip_raw/remuneracao/*.csv'\n",
    "rem = spark.read.csv(folder_path, header=True, inferSchema=True, sep=';', encoding='ISO-8859-1')\n",
    "rem = rem.withColumn(\"fonte\", lit(\"remuneracao\")) \\\n",
    "         .withColumn(\"date_upload\", current_timestamp())\n",
    "\n",
    "#tabela anterior\n",
    "rem_before = spark.table(\"public_informations.silver_siape_remuneracao\")\n",
    "\n",
    "rem = rem.join(rem_before, on=[\"id_servidor_portal\"], how=\"left_anti\")\n",
    "\n",
    "rem.write.format(\"delta\").mode(\"append\").insertInto(\"public_informations.silver_siape_remuneracao\")"
   ]
  }
 ],
 "metadata": {
  "application/vnd.databricks.v1+notebook": {
   "dashboards": [],
   "environmentMetadata": null,
   "language": "python",
   "notebookMetadata": {
    "mostRecentlyExecutedCommandWithImplicitDF": {
     "commandId": 2092484901015254,
     "dataframes": [
      "_sqldf"
     ]
    },
    "pythonIndentUnit": 4
   },
   "notebookName": "load data to silver",
   "widgets": {}
  }
 },
 "nbformat": 4,
 "nbformat_minor": 0
}
